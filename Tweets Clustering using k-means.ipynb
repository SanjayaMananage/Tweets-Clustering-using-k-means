{
  "nbformat": 4,
  "nbformat_minor": 0,
  "metadata": {
    "colab": {
      "provenance": []
    },
    "kernelspec": {
      "name": "python3",
      "display_name": "Python 3"
    },
    "language_info": {
      "name": "python"
    }
  },
  "cells": [
    {
      "cell_type": "code",
      "source": [
        "import re \n",
        "import pandas as pd\n",
        "import numpy as np"
      ],
      "metadata": {
        "id": "_hyLVrupQN8y"
      },
      "execution_count": 22,
      "outputs": []
    },
    {
      "cell_type": "code",
      "execution_count": 23,
      "metadata": {
        "id": "SD_2WMweP_AT"
      },
      "outputs": [],
      "source": [
        "class kmeans_clustering:\n",
        "  def __init__(self, dataFile):\n",
        "    self.cbchealth = dataFile\n",
        "\n",
        "  def main_method(self):\n",
        "    def clean_data(line):\n",
        "      pos1=line.find('|')\n",
        "      line=line[:0]+line[pos1+1:] #remove tweeet id\n",
        "      pos2=line.find('|')\n",
        "      line=line[:0]+line[pos2+1:] #remove date time\n",
        "      pos3=line.find('http:') #remove url\n",
        "      line=line[:pos3]\n",
        "      line=line.lower() #covert to lower\n",
        "      line=line.rstrip('\\n')\n",
        "      line=re.split(r'[ `!#$%^&*()_+\\-=\\[\\]{};\\:\"\\\\|,<>\\/?~]',line) #split\n",
        "      line= [ x for x in line if (\"@\") not in x ]\n",
        "      while \"\" in line:\n",
        "       line.remove(\"\")\n",
        "      return(line)\n",
        "\n",
        "    # Finding jacc_distance\n",
        "    def jacc_distance(a,b):\n",
        "      inter=(set(a) & set(b))\n",
        "      uni= (set(a) | set(b))\n",
        "\n",
        "      jacc_dis=round(1-len(inter)/len(uni),4)\n",
        "      return(jacc_dis) \n",
        "\n",
        "    # Calculate the SSE\n",
        "    def SSE_cal(K,centroids, clusters,tweet_list):\n",
        "      sse=0\n",
        "      for k in range(K):\n",
        "        for x in clusters[k]:\n",
        "          d=jacc_distance(tweet_list[int(centroids[k])],tweet_list[x])\n",
        "          sse=sse+d**2\n",
        "      return(sse)\n",
        "\n",
        "    #Finding the new centroid\n",
        "    def find_new_centroid(K, cluster,tweet_list):\n",
        "      new_i_sum=[]\n",
        "      for i in cluster:\n",
        "        sum=0\n",
        "        for j in cluster:\n",
        "          sum=sum+jacc_distance(tweet_list[i],tweet_list[j])\n",
        "        new_i_sum.append([sum,i])\n",
        "      \n",
        "      if(len((new_i_sum))==0):\n",
        "        new_cent=[1,1]\n",
        "      else:\n",
        "        new_cent=min(new_i_sum) \n",
        "      return(new_cent[1])\n",
        "\n",
        "    # K mean clustering using jaccard distance\n",
        "    def kmeans_tweet(K, tweet_list, l):\n",
        "      clus_sep=[]\n",
        "      #initial centroids\n",
        "      centroids=[x for x in range(K)]\n",
        "      for k in range(K):\n",
        "        clus_sep.append([])# intialize \n",
        "\n",
        "      for j in range(l):\n",
        "        dist=[]\n",
        "        for k in range(K):\n",
        "          d=jacc_distance(tweet_list[j],tweet_list[centroids[k]])\n",
        "          dist.append([d,k])\n",
        "        \n",
        "        min_d=min(dist)\n",
        "        clus_sep[min_d[1]].append(j)\n",
        "\n",
        "        new_cent=find_new_centroid(K,clus_sep[min_d[1]],tweet_list)\n",
        "        centroids[k]=new_cent\n",
        "\n",
        "      SSE=SSE_cal(K,centroids,clus_sep,tweet_list)\n",
        "      ret_list=[clus_sep,SSE]\n",
        "      return(ret_list)\n",
        "\n",
        "    Lines = self.cbchealth.readlines()\n",
        "    tweet_list=[]\n",
        "    for line in Lines:\n",
        "      line=\" {}\".format(line.strip())\n",
        "      line=clean_data(line)\n",
        "      tweet_list.append(line)\n",
        "    #print(tweet_list)\n",
        "\n",
        "    K=[10,20,30,40,50]\n",
        "    l=len(tweet_list)\n",
        "\n",
        "    for k in K:\n",
        "      tweet_clus=kmeans_tweet(k, tweet_list, l)\n",
        "      print(\"K is :\",k)\n",
        "      print(\"Size of each cluster :\")\n",
        "      size_clusters=[]\n",
        "      for i in tweet_clus[0]:\n",
        "        size_clusters.append(len(i))\n",
        "      print(size_clusters)\n",
        "      print(\"SSE :\" ,tweet_clus[1])\n"
      ]
    },
    {
      "cell_type": "code",
      "source": [
        "cbchealth = open('cbchealth.txt', 'r')\n",
        "\n",
        "if __name__ == \"__main__\":\n",
        "    kmeans = kmeans_clustering(cbchealth) # put in path to your file\n",
        "    kmeans.main_method()"
      ],
      "metadata": {
        "colab": {
          "base_uri": "https://localhost:8080/"
        },
        "id": "mqHooedEQEW8",
        "outputId": "6f70cf8e-20ac-411d-a750-022b2c76c205"
      },
      "execution_count": 24,
      "outputs": [
        {
          "output_type": "stream",
          "name": "stdout",
          "text": [
            "K is : 10\n",
            "Size of each cluster :\n",
            "[885, 767, 170, 212, 76, 310, 406, 241, 72, 602]\n",
            "SSE : 3274.241079180055\n",
            "K is : 20\n",
            "Size of each cluster :\n",
            "[640, 585, 55, 176, 37, 273, 158, 179, 68, 280, 78, 78, 75, 148, 25, 32, 253, 35, 179, 387]\n",
            "SSE : 3226.885769740034\n",
            "K is : 30\n",
            "Size of each cluster :\n",
            "[476, 456, 41, 153, 28, 191, 122, 156, 63, 144, 57, 75, 28, 120, 20, 20, 210, 31, 167, 50, 33, 54, 126, 102, 150, 75, 61, 66, 145, 321]\n",
            "SSE : 3150.408558860048\n",
            "K is : 40\n",
            "Size of each cluster :\n",
            "[339, 330, 37, 139, 25, 149, 73, 108, 60, 96, 49, 65, 28, 51, 20, 16, 29, 27, 159, 39, 23, 45, 101, 90, 135, 76, 57, 63, 81, 49, 155, 15, 17, 131, 75, 80, 101, 326, 71, 211]\n",
            "SSE : 3096.860506540043\n",
            "K is : 50\n",
            "Size of each cluster :\n",
            "[232, 292, 34, 119, 20, 131, 65, 86, 56, 79, 28, 45, 9, 35, 20, 17, 25, 21, 113, 37, 19, 42, 86, 57, 91, 52, 45, 47, 37, 44, 110, 12, 14, 122, 75, 70, 95, 261, 67, 119, 124, 126, 36, 60, 84, 34, 75, 101, 37, 135]\n",
            "SSE : 3048.3810127600323\n"
          ]
        }
      ]
    }
  ]
}